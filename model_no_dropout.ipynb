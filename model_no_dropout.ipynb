{
 "cells": [
  {
   "cell_type": "markdown",
   "metadata": {},
   "source": [
    "# Image Classification on Pneumonia Chest Xray's"
   ]
  },
  {
   "cell_type": "markdown",
   "metadata": {},
   "source": [
    "### Steps\n",
    "- load and normalize data\n",
    "    - define transforms, dataset and dataloaders\n",
    "    - find mean and std\n",
    "- visualize images\n",
    "- define train function\n",
    "- define visualize function\n"
   ]
  },
  {
   "cell_type": "code",
   "execution_count": 1,
   "metadata": {},
   "outputs": [],
   "source": [
    "%matplotlib inline"
   ]
  },
  {
   "cell_type": "code",
   "execution_count": 2,
   "metadata": {},
   "outputs": [],
   "source": [
    "from __future__ import print_function, division"
   ]
  },
  {
   "cell_type": "code",
   "execution_count": 3,
   "metadata": {},
   "outputs": [],
   "source": [
    "import os\n",
    "import copy \n",
    "import time\n",
    "import numpy as np\n",
    "import matplotlib.pyplot as plt"
   ]
  },
  {
   "cell_type": "code",
   "execution_count": 4,
   "metadata": {},
   "outputs": [],
   "source": [
    "import torch\n",
    "import torch.nn as nn\n",
    "import torch.optim as optim\n",
    "from torch.optim import lr_scheduler"
   ]
  },
  {
   "cell_type": "code",
   "execution_count": 5,
   "metadata": {},
   "outputs": [],
   "source": [
    "import torchvision\n",
    "from torchvision import transforms, datasets, models"
   ]
  },
  {
   "cell_type": "code",
   "execution_count": 6,
   "metadata": {},
   "outputs": [],
   "source": [
    "plt.ion()"
   ]
  },
  {
   "cell_type": "code",
   "execution_count": 7,
   "metadata": {},
   "outputs": [
    {
     "data": {
      "text/plain": [
       "device(type='cuda', index=0)"
      ]
     },
     "execution_count": 7,
     "metadata": {},
     "output_type": "execute_result"
    }
   ],
   "source": [
    "device = torch.device('cuda:0' if torch.cuda.is_available() else 'cpu')\n",
    "device"
   ]
  },
  {
   "cell_type": "markdown",
   "metadata": {},
   "source": [
    "## load and normalize the data"
   ]
  },
  {
   "cell_type": "code",
   "execution_count": 8,
   "metadata": {},
   "outputs": [],
   "source": [
    "transform = {\n",
    "    'train': transforms.Compose([\n",
    "        transforms.RandomResizedCrop(224),\n",
    "        transforms.RandomHorizontalFlip(),\n",
    "        transforms.ToTensor(),\n",
    "        transforms.Normalize([0.5528, 0.5528, 0.5528], [0.1583, 0.1583, 0.1583])\n",
    "    ]),\n",
    "    'val': transforms.Compose([\n",
    "        transforms.Resize(256),\n",
    "        transforms.CenterCrop(224),\n",
    "        transforms.ToTensor(),\n",
    "        transforms.Normalize([0.5528, 0.5528, 0.5528], [0.1583, 0.1583, 0.1583])\n",
    "    ]),\n",
    "    'test': transforms.Compose([\n",
    "        transforms.Resize(256),\n",
    "        transforms.CenterCrop(224),\n",
    "        transforms.ToTensor(),\n",
    "        transforms.Normalize([0.5528, 0.5528, 0.5528], [0.1583, 0.1583, 0.1583])\n",
    "    ])\n",
    "}"
   ]
  },
  {
   "cell_type": "code",
   "execution_count": 9,
   "metadata": {},
   "outputs": [],
   "source": [
    "path = './data/chest_xray/'"
   ]
  },
  {
   "cell_type": "markdown",
   "metadata": {},
   "source": [
    "**datasets**"
   ]
  },
  {
   "cell_type": "code",
   "execution_count": 10,
   "metadata": {},
   "outputs": [],
   "source": [
    "image_datasets = {x: datasets.ImageFolder(os.path.join(path, x), transform[x]) \n",
    "                  for x in ['train', 'val', 'test']}"
   ]
  },
  {
   "cell_type": "markdown",
   "metadata": {},
   "source": [
    "**data loader**"
   ]
  },
  {
   "cell_type": "code",
   "execution_count": 18,
   "metadata": {},
   "outputs": [],
   "source": [
    "data_loaders = {x: torch.utils.data.DataLoader(image_datasets[x], batch_size=1 if x == 'val' else 64, \n",
    "                                               shuffle=True, num_workers=4)\n",
    "                for x in ['train', 'val', 'test']}"
   ]
  },
  {
   "cell_type": "markdown",
   "metadata": {},
   "source": [
    "**number of images**"
   ]
  },
  {
   "cell_type": "code",
   "execution_count": 12,
   "metadata": {},
   "outputs": [
    {
     "data": {
      "text/plain": [
       "{'test': 624, 'train': 5216, 'val': 16}"
      ]
     },
     "execution_count": 12,
     "metadata": {},
     "output_type": "execute_result"
    }
   ],
   "source": [
    "dataset_sizes = {x: len(image_datasets[x]) for x in ['train', 'val', 'test']}\n",
    "dataset_sizes"
   ]
  },
  {
   "cell_type": "markdown",
   "metadata": {},
   "source": [
    "**classes**"
   ]
  },
  {
   "cell_type": "code",
   "execution_count": 13,
   "metadata": {},
   "outputs": [
    {
     "data": {
      "text/plain": [
       "['NORMAL', 'PNEUMONIA']"
      ]
     },
     "execution_count": 13,
     "metadata": {},
     "output_type": "execute_result"
    }
   ],
   "source": [
    "class_names = image_datasets['train'].classes\n",
    "class_names"
   ]
  },
  {
   "cell_type": "markdown",
   "metadata": {},
   "source": [
    "**mean and std**"
   ]
  },
  {
   "cell_type": "code",
   "execution_count": 17,
   "metadata": {},
   "outputs": [
    {
     "name": "stdout",
     "output_type": "stream",
     "text": [
      "mean:  tensor([0.5528, 0.5528, 0.5528], device='cuda:0')\n",
      "std:  tensor([0.1583, 0.1583, 0.1583], device='cuda:0')\n"
     ]
    }
   ],
   "source": [
    "mean = 0.\n",
    "std = 0.\n",
    "\n",
    "# use large batch size just for finding mean and std\n",
    "for images, labels in data_loaders['train']:\n",
    "    images, labels = images.to(device), labels.to(device)\n",
    "    \n",
    "    # get number of images in the batch and number of channels\n",
    "    batch_samples = images.size(0)\n",
    "    nb_channels = images.size(1)\n",
    "    # flatten height and width into one axis\n",
    "    images = images.view(batch_samples, nb_channels, -1)\n",
    "    # get mean and std\n",
    "    mean += images.mean(2).sum(0)\n",
    "    std += images.std(2).sum(0)\n",
    "    \n",
    "mean /= dataset_sizes['train']\n",
    "std /= dataset_sizes['train']\n",
    "\n",
    "print('mean: ', mean)\n",
    "print('std: ', std)"
   ]
  },
  {
   "cell_type": "markdown",
   "metadata": {},
   "source": [
    "## visualize some images"
   ]
  },
  {
   "cell_type": "code",
   "execution_count": 14,
   "metadata": {},
   "outputs": [],
   "source": [
    "def imshow(img, title=None):\n",
    "    # convert from tensor to numpy array\n",
    "    inp = img.numpy().transpose((1, 2, 0))\n",
    "    # mean and std used for normalization\n",
    "    mean = np.array([0.5528, 0.5528, 0.5528])\n",
    "    std = np.array([0.1583, 0.1583, 0.1583])\n",
    "    # unnormalize\n",
    "    inp = std * inp + mean \n",
    "    inp = np.clip(inp, 0, 1)\n",
    "    \n",
    "    plt.imshow(inp)\n",
    "    if title is not None:\n",
    "        plt.title(title)\n",
    "    plt.pause(0.001)"
   ]
  },
  {
   "cell_type": "code",
   "execution_count": 17,
   "metadata": {},
   "outputs": [
    {
     "data": {
      "image/png": "[encoded data removed]",
      "text/plain": [
       "<matplotlib.figure.Figure at 0x7f58b1b9d630>"
      ]
     },
     "metadata": {},
     "output_type": "display_data"
    }
   ],
   "source": [
    "train_iter = iter(data_loaders['train'])\n",
    "images, labels = train_iter.next()\n",
    "\n",
    "grid = torchvision.utils.make_grid(images)\n",
    "title = [class_names[x] for x in labels]\n",
    "\n",
    "imshow(grid, title=title)"
   ]
  },
  {
   "cell_type": "markdown",
   "metadata": {},
   "source": [
    "## define train function"
   ]
  },
  {
   "cell_type": "code",
   "execution_count": 41,
   "metadata": {},
   "outputs": [],
   "source": [
    "def train(model, criterion, optimizer, scheduler, num_epochs=10):\n",
    "    since = time.time()\n",
    "    \n",
    "    best_model_wts = copy.deepcopy(model.state_dict())\n",
    "    best_acc = 0.\n",
    "    \n",
    "    for epoch in range(num_epochs):\n",
    "        print('Epoch {}/{}'.format(epoch + 1, num_epochs))\n",
    "        print('-' * 10)\n",
    "        # each epoch has a training and a validation phase\n",
    "        for phase in ['train', 'val']:\n",
    "            if phase == 'train': \n",
    "                scheduler.step()\n",
    "                model.train()\n",
    "            else:\n",
    "                model.eval()\n",
    "                \n",
    "            running_loss = 0.\n",
    "            running_corrects = 0.\n",
    "            # iterate over the images\n",
    "            for images, labels in data_loaders[phase]:\n",
    "                images, labels = images.to(device), labels.to(device)\n",
    "                # zero the gradient parameters\n",
    "                optimizer.zero_grad()\n",
    "                \n",
    "                # forward pass\n",
    "                # track history if only in train\n",
    "                with torch.set_grad_enabled(phase == 'train'):\n",
    "                    outputs = model(images)\n",
    "                    loss = criterion(outputs, labels)\n",
    "                    _, preds = torch.max(outputs, 1)\n",
    "                    \n",
    "                    # backward + optimize if only in training \n",
    "                    if phase == 'train':\n",
    "                        loss.backward()\n",
    "                        optimizer.step()\n",
    "                \n",
    "                # stats \n",
    "                running_loss += loss.item() * labels.size(0)\n",
    "                running_corrects += (preds == labels).sum().item()\n",
    "            \n",
    "            epoch_loss = running_loss / dataset_sizes[phase]\n",
    "            epoch_acc = running_corrects / dataset_sizes[phase]\n",
    "            \n",
    "            print('{} Loss: {:.4f}  Acc: {:.4f}'.format(\n",
    "                phase, epoch_loss, epoch_acc))\n",
    "            \n",
    "            if phase == 'val' and epoch_acc > best_acc:\n",
    "                best_model_wts = copy.deepcopy(model.state_dict())\n",
    "                best_acc = epoch_acc\n",
    "        print()\n",
    "        \n",
    "    time_elapsed = time.time() - since\n",
    "    print('Training complete in: {:.0f}m {:.0f}s'.format(\n",
    "        time_elapsed // 60, time_elapsed % 60))\n",
    "    print('Best validation acc: {:.4f}'.format(best_acc))\n",
    "    # load best model weights\n",
    "    model.load_state_dict(best_model_wts)\n",
    "    return model"
   ]
  },
  {
   "cell_type": "markdown",
   "metadata": {},
   "source": [
    "### generic function to display predictions for a few images"
   ]
  },
  {
   "cell_type": "code",
   "execution_count": 57,
   "metadata": {},
   "outputs": [],
   "source": [
    "def visualize_model(model, num_images=6):\n",
    "    was_training = model.training\n",
    "    images_so_far = 0\n",
    "    model.eval()\n",
    "    fig = plt.figure()\n",
    "    \n",
    "    with torch.no_grad():\n",
    "        for images, labels in data_loaders['val']:\n",
    "            images, labels = images.to(device), labels.to(device)\n",
    "            \n",
    "            outputs = model(images)\n",
    "            _, preds = torch.max(outputs, 1)\n",
    "            \n",
    "            for j in range(images.size()[0]):\n",
    "                images_so_far += 1\n",
    "                ax = plt.subplot(num_images // 2, 2, images_so_far)\n",
    "                ax.axis('off')\n",
    "                ax.set_title('predicted: {}'.format(class_names[preds[j]]))\n",
    "                imshow(images.cpu().data[j])\n",
    "                \n",
    "            if images_so_far == num_images:\n",
    "                    model.train(mode=was_training)\n",
    "                    return\n",
    "        model.train(mode=was_training)"
   ]
  },
  {
   "cell_type": "markdown",
   "metadata": {},
   "source": [
    "## define and freeze model"
   ]
  },
  {
   "cell_type": "code",
   "execution_count": 43,
   "metadata": {},
   "outputs": [],
   "source": [
    "model = torchvision.models.resnet34(pretrained=True)"
   ]
  },
  {
   "cell_type": "markdown",
   "metadata": {},
   "source": [
    "freeze weights"
   ]
  },
  {
   "cell_type": "code",
   "execution_count": 44,
   "metadata": {},
   "outputs": [],
   "source": [
    "for param in model.parameters():\n",
    "    param.requires_grad = False"
   ]
  },
  {
   "cell_type": "markdown",
   "metadata": {},
   "source": [
    "replace fully connected layer"
   ]
  },
  {
   "cell_type": "code",
   "execution_count": 45,
   "metadata": {},
   "outputs": [],
   "source": [
    "num_ftrs = model.fc.in_features\n",
    "model.fc = nn.Linear(num_ftrs, len(class_names))\n",
    "model = model.to(device)"
   ]
  },
  {
   "cell_type": "markdown",
   "metadata": {},
   "source": [
    "## define loss function"
   ]
  },
  {
   "cell_type": "code",
   "execution_count": 46,
   "metadata": {},
   "outputs": [],
   "source": [
    "criterion = nn.CrossEntropyLoss()"
   ]
  },
  {
   "cell_type": "markdown",
   "metadata": {},
   "source": [
    "## define optimizer"
   ]
  },
  {
   "cell_type": "code",
   "execution_count": 47,
   "metadata": {},
   "outputs": [],
   "source": [
    "optimizer = optim.Adam(model.parameters(), lr=0.001)"
   ]
  },
  {
   "cell_type": "markdown",
   "metadata": {},
   "source": [
    "**define scheduler**"
   ]
  },
  {
   "cell_type": "code",
   "execution_count": 48,
   "metadata": {},
   "outputs": [],
   "source": [
    "scheduler = lr_scheduler.StepLR(optimizer, step_size=7, gamma=0.1)"
   ]
  },
  {
   "cell_type": "markdown",
   "metadata": {},
   "source": [
    "## Train"
   ]
  },
  {
   "cell_type": "code",
   "execution_count": 49,
   "metadata": {},
   "outputs": [
    {
     "name": "stdout",
     "output_type": "stream",
     "text": [
      "Epoch 1/10\n",
      "----------\n",
      "train Loss: 0.4227  Acc: 0.8140\n",
      "val Loss: 0.8145  Acc: 0.6250\n",
      "\n",
      "Epoch 2/10\n",
      "----------\n",
      "train Loss: 0.2993  Acc: 0.8696\n",
      "val Loss: 0.7692  Acc: 0.6875\n",
      "\n",
      "Epoch 3/10\n",
      "----------\n",
      "train Loss: 0.2704  Acc: 0.8817\n",
      "val Loss: 1.0234  Acc: 0.6250\n",
      "\n",
      "Epoch 4/10\n",
      "----------\n",
      "train Loss: 0.2584  Acc: 0.8878\n",
      "val Loss: 0.7237  Acc: 0.6875\n",
      "\n",
      "Epoch 5/10\n",
      "----------\n",
      "train Loss: 0.2564  Acc: 0.8894\n",
      "val Loss: 0.8669  Acc: 0.6875\n",
      "\n",
      "Epoch 6/10\n",
      "----------\n",
      "train Loss: 0.2494  Acc: 0.8932\n",
      "val Loss: 0.9930  Acc: 0.6875\n",
      "\n",
      "Epoch 7/10\n",
      "----------\n",
      "train Loss: 0.2562  Acc: 0.8900\n",
      "val Loss: 0.9717  Acc: 0.6875\n",
      "\n",
      "Epoch 8/10\n",
      "----------\n",
      "train Loss: 0.2334  Acc: 0.9034\n",
      "val Loss: 0.9934  Acc: 0.6875\n",
      "\n",
      "Epoch 9/10\n",
      "----------\n",
      "train Loss: 0.2373  Acc: 0.8970\n",
      "val Loss: 0.9240  Acc: 0.6875\n",
      "\n",
      "Epoch 10/10\n",
      "----------\n",
      "train Loss: 0.2322  Acc: 0.9059\n",
      "val Loss: 0.9362  Acc: 0.6875\n",
      "\n",
      "Training complete in: 6m 2s\n",
      "Best validation acc: 0.6875\n"
     ]
    }
   ],
   "source": [
    "model = train(model, criterion, optimizer, scheduler, num_epochs=10)"
   ]
  },
  {
   "cell_type": "markdown",
   "metadata": {},
   "source": [
    "## fine tuning"
   ]
  },
  {
   "cell_type": "code",
   "execution_count": 51,
   "metadata": {},
   "outputs": [],
   "source": [
    "for param in model.parameters():\n",
    "    param.requires_grad = True"
   ]
  },
  {
   "cell_type": "code",
   "execution_count": null,
   "metadata": {},
   "outputs": [],
   "source": [
    "optimizer = optim.Adam(model.parameters(), lr=0.001)"
   ]
  },
  {
   "cell_type": "code",
   "execution_count": 52,
   "metadata": {},
   "outputs": [
    {
     "name": "stdout",
     "output_type": "stream",
     "text": [
      "Epoch 1/25\n",
      "----------\n",
      "train Loss: 0.2082  Acc: 0.9199\n",
      "val Loss: 0.8834  Acc: 0.6250\n",
      "\n",
      "Epoch 2/25\n",
      "----------\n",
      "train Loss: 0.1467  Acc: 0.9459\n",
      "val Loss: 0.1126  Acc: 0.9375\n",
      "\n",
      "Epoch 3/25\n",
      "----------\n",
      "train Loss: 0.1323  Acc: 0.9523\n",
      "val Loss: 0.5136  Acc: 0.6875\n",
      "\n",
      "Epoch 4/25\n",
      "----------\n",
      "train Loss: 0.1214  Acc: 0.9538\n",
      "val Loss: 0.2325  Acc: 0.9375\n",
      "\n",
      "Epoch 5/25\n",
      "----------\n",
      "train Loss: 0.0970  Acc: 0.9638\n",
      "val Loss: 0.6927  Acc: 0.6250\n",
      "\n",
      "Epoch 6/25\n",
      "----------\n",
      "train Loss: 0.0970  Acc: 0.9664\n",
      "val Loss: 0.4323  Acc: 0.8125\n",
      "\n",
      "Epoch 7/25\n",
      "----------\n",
      "train Loss: 0.0898  Acc: 0.9686\n",
      "val Loss: 0.3726  Acc: 0.8750\n",
      "\n",
      "Epoch 8/25\n",
      "----------\n",
      "train Loss: 0.0933  Acc: 0.9651\n",
      "val Loss: 0.4868  Acc: 0.8750\n",
      "\n",
      "Epoch 9/25\n",
      "----------\n",
      "train Loss: 0.0881  Acc: 0.9676\n",
      "val Loss: 0.4423  Acc: 0.8750\n",
      "\n",
      "Epoch 10/25\n",
      "----------\n",
      "train Loss: 0.0766  Acc: 0.9716\n",
      "val Loss: 0.2347  Acc: 0.8750\n",
      "\n",
      "Epoch 11/25\n",
      "----------\n",
      "train Loss: 0.0750  Acc: 0.9728\n",
      "val Loss: 0.4326  Acc: 0.8750\n",
      "\n",
      "Epoch 12/25\n",
      "----------\n",
      "train Loss: 0.0766  Acc: 0.9712\n",
      "val Loss: 0.4221  Acc: 0.8750\n",
      "\n",
      "Epoch 13/25\n",
      "----------\n",
      "train Loss: 0.0681  Acc: 0.9757\n",
      "val Loss: 0.3867  Acc: 0.8750\n",
      "\n",
      "Epoch 14/25\n",
      "----------\n",
      "train Loss: 0.0753  Acc: 0.9712\n",
      "val Loss: 0.4552  Acc: 0.8750\n",
      "\n",
      "Epoch 15/25\n",
      "----------\n",
      "train Loss: 0.0758  Acc: 0.9734\n",
      "val Loss: 0.3272  Acc: 0.8750\n",
      "\n",
      "Epoch 16/25\n",
      "----------\n",
      "train Loss: 0.0735  Acc: 0.9724\n",
      "val Loss: 0.4524  Acc: 0.8750\n",
      "\n",
      "Epoch 17/25\n",
      "----------\n",
      "train Loss: 0.0761  Acc: 0.9707\n",
      "val Loss: 0.4118  Acc: 0.8750\n",
      "\n",
      "Epoch 18/25\n",
      "----------\n",
      "train Loss: 0.0733  Acc: 0.9745\n",
      "val Loss: 0.4366  Acc: 0.8750\n",
      "\n",
      "Epoch 19/25\n",
      "----------\n",
      "train Loss: 0.0731  Acc: 0.9712\n",
      "val Loss: 0.2994  Acc: 0.8750\n",
      "\n",
      "Epoch 20/25\n",
      "----------\n",
      "train Loss: 0.0764  Acc: 0.9693\n",
      "val Loss: 0.3641  Acc: 0.8750\n",
      "\n",
      "Epoch 21/25\n",
      "----------\n",
      "train Loss: 0.0719  Acc: 0.9747\n",
      "val Loss: 0.3595  Acc: 0.8750\n",
      "\n",
      "Epoch 22/25\n",
      "----------\n",
      "train Loss: 0.0722  Acc: 0.9724\n",
      "val Loss: 0.3442  Acc: 0.8750\n",
      "\n",
      "Epoch 23/25\n",
      "----------\n",
      "train Loss: 0.0686  Acc: 0.9743\n",
      "val Loss: 0.3528  Acc: 0.8750\n",
      "\n",
      "Epoch 24/25\n",
      "----------\n",
      "train Loss: 0.0727  Acc: 0.9734\n",
      "val Loss: 0.3455  Acc: 0.8750\n",
      "\n",
      "Epoch 25/25\n",
      "----------\n",
      "train Loss: 0.0732  Acc: 0.9726\n",
      "val Loss: 0.3059  Acc: 0.8750\n",
      "\n",
      "Training complete in: 15m 16s\n",
      "Best validation acc: 0.9375\n"
     ]
    }
   ],
   "source": [
    "model = train(model, criterion, optimizer, scheduler, num_epochs=25)"
   ]
  },
  {
   "cell_type": "markdown",
   "metadata": {},
   "source": [
    "## evaluate"
   ]
  },
  {
   "cell_type": "code",
   "execution_count": 55,
   "metadata": {},
   "outputs": [
    {
     "name": "stdout",
     "output_type": "stream",
     "text": [
      "Test accuracy: 92.79%\n"
     ]
    }
   ],
   "source": [
    "correct = 0 \n",
    "total = 0\n",
    "\n",
    "with torch.no_grad():\n",
    "    for images, labels in data_loaders['test']:\n",
    "        images, labels = images.to(device), labels.to(device)\n",
    "        \n",
    "        outputs = model(images)\n",
    "        _, preds = torch.max(outputs, 1)\n",
    "        \n",
    "        total += labels.size(0)\n",
    "        correct += (preds == labels).sum().item()\n",
    "        \n",
    "acc = (correct / total) * 100\n",
    "print('Test accuracy: {:.2f}%'.format(acc))"
   ]
  },
  {
   "cell_type": "code",
   "execution_count": 58,
   "metadata": {},
   "outputs": [
    {
     "name": "stderr",
     "output_type": "stream",
     "text": [
      "Exception ignored in: <bound method _DataLoaderIter.__del__ of <torch.utils.data.dataloader._DataLoaderIter object at 0x7f59187c6898>>\n",
      "Traceback (most recent call last):\n",
      "  File \"/usr/local/lib/python3.5/dist-packages/torch/utils/data/dataloader.py\", line 399, in __del__\n",
      "    self._shutdown_workers()\n",
      "  File \"/usr/local/lib/python3.5/dist-packages/torch/utils/data/dataloader.py\", line 378, in _shutdown_workers\n",
      "    self.worker_result_queue.get()\n",
      "  File \"/usr/lib/python3.5/multiprocessing/queues.py\", line 345, in get\n",
      "    return ForkingPickler.loads(res)\n",
      "  File \"/usr/local/lib/python3.5/dist-packages/torch/multiprocessing/reductions.py\", line 151, in rebuild_storage_fd\n",
      "    fd = df.detach()\n",
      "  File \"/usr/lib/python3.5/multiprocessing/resource_sharer.py\", line 57, in detach\n",
      "    with _resource_sharer.get_connection(self._id) as conn:\n",
      "  File \"/usr/lib/python3.5/multiprocessing/resource_sharer.py\", line 87, in get_connection\n",
      "    c = Client(address, authkey=process.current_process().authkey)\n",
      "  File \"/usr/lib/python3.5/multiprocessing/connection.py\", line 494, in Client\n",
      "    deliver_challenge(c, authkey)\n",
      "  File \"/usr/lib/python3.5/multiprocessing/connection.py\", line 722, in deliver_challenge\n",
      "    response = connection.recv_bytes(256)        # reject large message\n",
      "  File \"/usr/lib/python3.5/multiprocessing/connection.py\", line 216, in recv_bytes\n",
      "    buf = self._recv_bytes(maxlength)\n",
      "  File \"/usr/lib/python3.5/multiprocessing/connection.py\", line 407, in _recv_bytes\n",
      "    buf = self._recv(4)\n",
      "  File \"/usr/lib/python3.5/multiprocessing/connection.py\", line 379, in _recv\n",
      "    chunk = read(handle, remaining)\n",
      "ConnectionResetError: [Errno 104] Connection reset by peer\n"
     ]
    },
    {
     "data": {
      "image/png": "[encoded data removed]",
      "text/plain": [
       "<matplotlib.figure.Figure at 0x7f59187ca160>"
      ]
     },
     "metadata": {},
     "output_type": "display_data"
    }
   ],
   "source": [
    "visualize_model(model)"
   ]
  },
  {
   "cell_type": "code",
   "execution_count": null,
   "metadata": {},
   "outputs": [],
   "source": []
  }
 ],
 "metadata": {
  "kernelspec": {
   "display_name": "Python 3",
   "language": "python",
   "name": "python3"
  },
  "language_info": {
   "codemirror_mode": {
    "name": "ipython",
    "version": 3
   },
   "file_extension": ".py",
   "mimetype": "text/x-python",
   "name": "python",
   "nbconvert_exporter": "python",
   "pygments_lexer": "ipython3",
   "version": "3.5.3"
  }
 },
 "nbformat": 4,
 "nbformat_minor": 2
}
